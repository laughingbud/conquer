{
  "nbformat": 4,
  "nbformat_minor": 0,
  "metadata": {
    "colab": {
      "provenance": [],
      "include_colab_link": true
    },
    "kernelspec": {
      "name": "python3",
      "display_name": "Python 3"
    },
    "language_info": {
      "name": "python"
    }
  },
  "cells": [
    {
      "cell_type": "markdown",
      "metadata": {
        "id": "view-in-github",
        "colab_type": "text"
      },
      "source": [
        "<a href=\"https://colab.research.google.com/github/laughingbud/conquer/blob/main/MScFE622_GP1_DV.ipynb\" target=\"_parent\"><img src=\"https://colab.research.google.com/assets/colab-badge.svg\" alt=\"Open In Colab\"/></a>"
      ]
    },
    {
      "cell_type": "markdown",
      "source": [
        "# Stochastic Modelling Group Project 1\n",
        "# Student Group 3587"
      ],
      "metadata": {
        "id": "2cNFZON2AVDf"
      }
    },
    {
      "cell_type": "code",
      "source": [
        "# import libraries\n",
        "import matplotlib.pyplot as plt\n",
        "import numpy as np\n",
        "import pandas as pd\n",
        "from numpy.fft import fft\n",
        "from scipy import stats\n",
        "from scipy.integrate import quad\n",
        "from scipy.optimize import brute, fmin"
      ],
      "metadata": {
        "id": "Tf1mHz8gApdh"
      },
      "execution_count": null,
      "outputs": []
    },
    {
      "cell_type": "code",
      "source": [
        "!git clone https://github.com/laughingbud/conquer.git # clone github repo"
      ],
      "metadata": {
        "colab": {
          "base_uri": "https://localhost:8080/"
        },
        "id": "KGpuNyK8AYdl",
        "outputId": "9f5df1d0-ae67-42b9-89e9-60586410fb40"
      },
      "execution_count": null,
      "outputs": [
        {
          "output_type": "stream",
          "name": "stdout",
          "text": [
            "fatal: destination path 'conquer' already exists and is not an empty directory.\n"
          ]
        }
      ]
    },
    {
      "cell_type": "markdown",
      "source": [
        "#Section 1. Prepare Market Data"
      ],
      "metadata": {
        "id": "AH0cuJNGwVY7"
      }
    },
    {
      "cell_type": "code",
      "source": [
        "# options = pd.read_excel(\"MScFE 622_Stochastic Modeling_GWP1_Option data.xlsx\")\n",
        "options = pd.read_excel(\"conquer/MScFE 622_Stochastic Modeling_GWP1_Option data.xlsx\")\n",
        "S0 = 232.90 # SM stock is currently trading at $232.90 USD"
      ],
      "metadata": {
        "id": "tQDM5dZvXbHC"
      },
      "execution_count": null,
      "outputs": []
    },
    {
      "cell_type": "code",
      "source": [
        "# Adding Time-to-Maturity and constant short-rates\n",
        "for row, option in options.iterrows():\n",
        "    T = option[\"Days to maturity\"] / 250.0 #Assume 1 year has 250 trading days.\n",
        "    options.loc[row, \"T\"] = T\n",
        "    options.loc[row, \"r\"] = 0.015 #constant annual risk-free rate of 1.50%"
      ],
      "metadata": {
        "id": "onQ_xI1jeR6q"
      },
      "execution_count": null,
      "outputs": []
    },
    {
      "cell_type": "code",
      "source": [
        "# options with short maturity = 15 days\n",
        "options_short_mat = options[options['Days to maturity'] == 15]"
      ],
      "metadata": {
        "id": "Mmy-X7FIXqa_"
      },
      "execution_count": null,
      "outputs": []
    },
    {
      "cell_type": "code",
      "source": [
        "options_short_mat.head(5)"
      ],
      "metadata": {
        "colab": {
          "base_uri": "https://localhost:8080/",
          "height": 206
        },
        "id": "EuwbhL03b5hR",
        "outputId": "16b4ce09-fe6e-4edc-9b20-4bde13c6cbd1"
      },
      "execution_count": null,
      "outputs": [
        {
          "output_type": "execute_result",
          "data": {
            "text/plain": [
              "   Days to maturity  Strike  Price Type     T      r\n",
              "0                15   227.5  10.52    C  0.06  0.015\n",
              "1                15   230.0  10.05    C  0.06  0.015\n",
              "2                15   232.5   7.75    C  0.06  0.015\n",
              "3                15   235.0   6.01    C  0.06  0.015\n",
              "4                15   237.5   4.75    C  0.06  0.015"
            ],
            "text/html": [
              "\n",
              "\n",
              "  <div id=\"df-5bf571d9-60e9-4666-8081-9bb952daef4b\">\n",
              "    <div class=\"colab-df-container\">\n",
              "      <div>\n",
              "<style scoped>\n",
              "    .dataframe tbody tr th:only-of-type {\n",
              "        vertical-align: middle;\n",
              "    }\n",
              "\n",
              "    .dataframe tbody tr th {\n",
              "        vertical-align: top;\n",
              "    }\n",
              "\n",
              "    .dataframe thead th {\n",
              "        text-align: right;\n",
              "    }\n",
              "</style>\n",
              "<table border=\"1\" class=\"dataframe\">\n",
              "  <thead>\n",
              "    <tr style=\"text-align: right;\">\n",
              "      <th></th>\n",
              "      <th>Days to maturity</th>\n",
              "      <th>Strike</th>\n",
              "      <th>Price</th>\n",
              "      <th>Type</th>\n",
              "      <th>T</th>\n",
              "      <th>r</th>\n",
              "    </tr>\n",
              "  </thead>\n",
              "  <tbody>\n",
              "    <tr>\n",
              "      <th>0</th>\n",
              "      <td>15</td>\n",
              "      <td>227.5</td>\n",
              "      <td>10.52</td>\n",
              "      <td>C</td>\n",
              "      <td>0.06</td>\n",
              "      <td>0.015</td>\n",
              "    </tr>\n",
              "    <tr>\n",
              "      <th>1</th>\n",
              "      <td>15</td>\n",
              "      <td>230.0</td>\n",
              "      <td>10.05</td>\n",
              "      <td>C</td>\n",
              "      <td>0.06</td>\n",
              "      <td>0.015</td>\n",
              "    </tr>\n",
              "    <tr>\n",
              "      <th>2</th>\n",
              "      <td>15</td>\n",
              "      <td>232.5</td>\n",
              "      <td>7.75</td>\n",
              "      <td>C</td>\n",
              "      <td>0.06</td>\n",
              "      <td>0.015</td>\n",
              "    </tr>\n",
              "    <tr>\n",
              "      <th>3</th>\n",
              "      <td>15</td>\n",
              "      <td>235.0</td>\n",
              "      <td>6.01</td>\n",
              "      <td>C</td>\n",
              "      <td>0.06</td>\n",
              "      <td>0.015</td>\n",
              "    </tr>\n",
              "    <tr>\n",
              "      <th>4</th>\n",
              "      <td>15</td>\n",
              "      <td>237.5</td>\n",
              "      <td>4.75</td>\n",
              "      <td>C</td>\n",
              "      <td>0.06</td>\n",
              "      <td>0.015</td>\n",
              "    </tr>\n",
              "  </tbody>\n",
              "</table>\n",
              "</div>\n",
              "      <button class=\"colab-df-convert\" onclick=\"convertToInteractive('df-5bf571d9-60e9-4666-8081-9bb952daef4b')\"\n",
              "              title=\"Convert this dataframe to an interactive table.\"\n",
              "              style=\"display:none;\">\n",
              "\n",
              "  <svg xmlns=\"http://www.w3.org/2000/svg\" height=\"24px\"viewBox=\"0 0 24 24\"\n",
              "       width=\"24px\">\n",
              "    <path d=\"M0 0h24v24H0V0z\" fill=\"none\"/>\n",
              "    <path d=\"M18.56 5.44l.94 2.06.94-2.06 2.06-.94-2.06-.94-.94-2.06-.94 2.06-2.06.94zm-11 1L8.5 8.5l.94-2.06 2.06-.94-2.06-.94L8.5 2.5l-.94 2.06-2.06.94zm10 10l.94 2.06.94-2.06 2.06-.94-2.06-.94-.94-2.06-.94 2.06-2.06.94z\"/><path d=\"M17.41 7.96l-1.37-1.37c-.4-.4-.92-.59-1.43-.59-.52 0-1.04.2-1.43.59L10.3 9.45l-7.72 7.72c-.78.78-.78 2.05 0 2.83L4 21.41c.39.39.9.59 1.41.59.51 0 1.02-.2 1.41-.59l7.78-7.78 2.81-2.81c.8-.78.8-2.07 0-2.86zM5.41 20L4 18.59l7.72-7.72 1.47 1.35L5.41 20z\"/>\n",
              "  </svg>\n",
              "      </button>\n",
              "\n",
              "\n",
              "\n",
              "    <div id=\"df-8a5601d0-5600-4f9a-847e-7fb540d4a4f0\">\n",
              "      <button class=\"colab-df-quickchart\" onclick=\"quickchart('df-8a5601d0-5600-4f9a-847e-7fb540d4a4f0')\"\n",
              "              title=\"Suggest charts.\"\n",
              "              style=\"display:none;\">\n",
              "\n",
              "<svg xmlns=\"http://www.w3.org/2000/svg\" height=\"24px\"viewBox=\"0 0 24 24\"\n",
              "     width=\"24px\">\n",
              "    <g>\n",
              "        <path d=\"M19 3H5c-1.1 0-2 .9-2 2v14c0 1.1.9 2 2 2h14c1.1 0 2-.9 2-2V5c0-1.1-.9-2-2-2zM9 17H7v-7h2v7zm4 0h-2V7h2v10zm4 0h-2v-4h2v4z\"/>\n",
              "    </g>\n",
              "</svg>\n",
              "      </button>\n",
              "    </div>\n",
              "\n",
              "<style>\n",
              "  .colab-df-quickchart {\n",
              "    background-color: #E8F0FE;\n",
              "    border: none;\n",
              "    border-radius: 50%;\n",
              "    cursor: pointer;\n",
              "    display: none;\n",
              "    fill: #1967D2;\n",
              "    height: 32px;\n",
              "    padding: 0 0 0 0;\n",
              "    width: 32px;\n",
              "  }\n",
              "\n",
              "  .colab-df-quickchart:hover {\n",
              "    background-color: #E2EBFA;\n",
              "    box-shadow: 0px 1px 2px rgba(60, 64, 67, 0.3), 0px 1px 3px 1px rgba(60, 64, 67, 0.15);\n",
              "    fill: #174EA6;\n",
              "  }\n",
              "\n",
              "  [theme=dark] .colab-df-quickchart {\n",
              "    background-color: #3B4455;\n",
              "    fill: #D2E3FC;\n",
              "  }\n",
              "\n",
              "  [theme=dark] .colab-df-quickchart:hover {\n",
              "    background-color: #434B5C;\n",
              "    box-shadow: 0px 1px 3px 1px rgba(0, 0, 0, 0.15);\n",
              "    filter: drop-shadow(0px 1px 2px rgba(0, 0, 0, 0.3));\n",
              "    fill: #FFFFFF;\n",
              "  }\n",
              "</style>\n",
              "\n",
              "    <script>\n",
              "      async function quickchart(key) {\n",
              "        const containerElement = document.querySelector('#' + key);\n",
              "        const charts = await google.colab.kernel.invokeFunction(\n",
              "            'suggestCharts', [key], {});\n",
              "      }\n",
              "    </script>\n",
              "\n",
              "      <script>\n",
              "\n",
              "function displayQuickchartButton(domScope) {\n",
              "  let quickchartButtonEl =\n",
              "    domScope.querySelector('#df-8a5601d0-5600-4f9a-847e-7fb540d4a4f0 button.colab-df-quickchart');\n",
              "  quickchartButtonEl.style.display =\n",
              "    google.colab.kernel.accessAllowed ? 'block' : 'none';\n",
              "}\n",
              "\n",
              "        displayQuickchartButton(document);\n",
              "      </script>\n",
              "      <style>\n",
              "    .colab-df-container {\n",
              "      display:flex;\n",
              "      flex-wrap:wrap;\n",
              "      gap: 12px;\n",
              "    }\n",
              "\n",
              "    .colab-df-convert {\n",
              "      background-color: #E8F0FE;\n",
              "      border: none;\n",
              "      border-radius: 50%;\n",
              "      cursor: pointer;\n",
              "      display: none;\n",
              "      fill: #1967D2;\n",
              "      height: 32px;\n",
              "      padding: 0 0 0 0;\n",
              "      width: 32px;\n",
              "    }\n",
              "\n",
              "    .colab-df-convert:hover {\n",
              "      background-color: #E2EBFA;\n",
              "      box-shadow: 0px 1px 2px rgba(60, 64, 67, 0.3), 0px 1px 3px 1px rgba(60, 64, 67, 0.15);\n",
              "      fill: #174EA6;\n",
              "    }\n",
              "\n",
              "    [theme=dark] .colab-df-convert {\n",
              "      background-color: #3B4455;\n",
              "      fill: #D2E3FC;\n",
              "    }\n",
              "\n",
              "    [theme=dark] .colab-df-convert:hover {\n",
              "      background-color: #434B5C;\n",
              "      box-shadow: 0px 1px 3px 1px rgba(0, 0, 0, 0.15);\n",
              "      filter: drop-shadow(0px 1px 2px rgba(0, 0, 0, 0.3));\n",
              "      fill: #FFFFFF;\n",
              "    }\n",
              "  </style>\n",
              "\n",
              "      <script>\n",
              "        const buttonEl =\n",
              "          document.querySelector('#df-5bf571d9-60e9-4666-8081-9bb952daef4b button.colab-df-convert');\n",
              "        buttonEl.style.display =\n",
              "          google.colab.kernel.accessAllowed ? 'block' : 'none';\n",
              "\n",
              "        async function convertToInteractive(key) {\n",
              "          const element = document.querySelector('#df-5bf571d9-60e9-4666-8081-9bb952daef4b');\n",
              "          const dataTable =\n",
              "            await google.colab.kernel.invokeFunction('convertToInteractive',\n",
              "                                                     [key], {});\n",
              "          if (!dataTable) return;\n",
              "\n",
              "          const docLinkHtml = 'Like what you see? Visit the ' +\n",
              "            '<a target=\"_blank\" href=https://colab.research.google.com/notebooks/data_table.ipynb>data table notebook</a>'\n",
              "            + ' to learn more about interactive tables.';\n",
              "          element.innerHTML = '';\n",
              "          dataTable['output_type'] = 'display_data';\n",
              "          await google.colab.output.renderOutput(dataTable, element);\n",
              "          const docLink = document.createElement('div');\n",
              "          docLink.innerHTML = docLinkHtml;\n",
              "          element.appendChild(docLink);\n",
              "        }\n",
              "      </script>\n",
              "    </div>\n",
              "  </div>\n"
            ]
          },
          "metadata": {},
          "execution_count": 144
        }
      ]
    },
    {
      "cell_type": "code",
      "source": [
        "# options with long maturity = 60 days\n",
        "options_long_mat = options[options['Days to maturity'] == 60]"
      ],
      "metadata": {
        "id": "xb35U9SeMZmT"
      },
      "execution_count": null,
      "outputs": []
    },
    {
      "cell_type": "code",
      "source": [
        "options_long_mat.head(5)"
      ],
      "metadata": {
        "colab": {
          "base_uri": "https://localhost:8080/",
          "height": 206
        },
        "id": "8zyP2MDWMZqM",
        "outputId": "50bcbd1d-9bfe-4621-aa72-f0666d444ea3"
      },
      "execution_count": null,
      "outputs": [
        {
          "output_type": "execute_result",
          "data": {
            "text/plain": [
              "   Days to maturity  Strike  Price Type     T      r\n",
              "5                60   227.5  16.78    C  0.24  0.015\n",
              "6                60   230.0  17.65    C  0.24  0.015\n",
              "7                60   232.5  16.86    C  0.24  0.015\n",
              "8                60   235.0  16.05    C  0.24  0.015\n",
              "9                60   237.5  15.10    C  0.24  0.015"
            ],
            "text/html": [
              "\n",
              "\n",
              "  <div id=\"df-02d235f0-d721-480d-89be-cdae905d5053\">\n",
              "    <div class=\"colab-df-container\">\n",
              "      <div>\n",
              "<style scoped>\n",
              "    .dataframe tbody tr th:only-of-type {\n",
              "        vertical-align: middle;\n",
              "    }\n",
              "\n",
              "    .dataframe tbody tr th {\n",
              "        vertical-align: top;\n",
              "    }\n",
              "\n",
              "    .dataframe thead th {\n",
              "        text-align: right;\n",
              "    }\n",
              "</style>\n",
              "<table border=\"1\" class=\"dataframe\">\n",
              "  <thead>\n",
              "    <tr style=\"text-align: right;\">\n",
              "      <th></th>\n",
              "      <th>Days to maturity</th>\n",
              "      <th>Strike</th>\n",
              "      <th>Price</th>\n",
              "      <th>Type</th>\n",
              "      <th>T</th>\n",
              "      <th>r</th>\n",
              "    </tr>\n",
              "  </thead>\n",
              "  <tbody>\n",
              "    <tr>\n",
              "      <th>5</th>\n",
              "      <td>60</td>\n",
              "      <td>227.5</td>\n",
              "      <td>16.78</td>\n",
              "      <td>C</td>\n",
              "      <td>0.24</td>\n",
              "      <td>0.015</td>\n",
              "    </tr>\n",
              "    <tr>\n",
              "      <th>6</th>\n",
              "      <td>60</td>\n",
              "      <td>230.0</td>\n",
              "      <td>17.65</td>\n",
              "      <td>C</td>\n",
              "      <td>0.24</td>\n",
              "      <td>0.015</td>\n",
              "    </tr>\n",
              "    <tr>\n",
              "      <th>7</th>\n",
              "      <td>60</td>\n",
              "      <td>232.5</td>\n",
              "      <td>16.86</td>\n",
              "      <td>C</td>\n",
              "      <td>0.24</td>\n",
              "      <td>0.015</td>\n",
              "    </tr>\n",
              "    <tr>\n",
              "      <th>8</th>\n",
              "      <td>60</td>\n",
              "      <td>235.0</td>\n",
              "      <td>16.05</td>\n",
              "      <td>C</td>\n",
              "      <td>0.24</td>\n",
              "      <td>0.015</td>\n",
              "    </tr>\n",
              "    <tr>\n",
              "      <th>9</th>\n",
              "      <td>60</td>\n",
              "      <td>237.5</td>\n",
              "      <td>15.10</td>\n",
              "      <td>C</td>\n",
              "      <td>0.24</td>\n",
              "      <td>0.015</td>\n",
              "    </tr>\n",
              "  </tbody>\n",
              "</table>\n",
              "</div>\n",
              "      <button class=\"colab-df-convert\" onclick=\"convertToInteractive('df-02d235f0-d721-480d-89be-cdae905d5053')\"\n",
              "              title=\"Convert this dataframe to an interactive table.\"\n",
              "              style=\"display:none;\">\n",
              "\n",
              "  <svg xmlns=\"http://www.w3.org/2000/svg\" height=\"24px\"viewBox=\"0 0 24 24\"\n",
              "       width=\"24px\">\n",
              "    <path d=\"M0 0h24v24H0V0z\" fill=\"none\"/>\n",
              "    <path d=\"M18.56 5.44l.94 2.06.94-2.06 2.06-.94-2.06-.94-.94-2.06-.94 2.06-2.06.94zm-11 1L8.5 8.5l.94-2.06 2.06-.94-2.06-.94L8.5 2.5l-.94 2.06-2.06.94zm10 10l.94 2.06.94-2.06 2.06-.94-2.06-.94-.94-2.06-.94 2.06-2.06.94z\"/><path d=\"M17.41 7.96l-1.37-1.37c-.4-.4-.92-.59-1.43-.59-.52 0-1.04.2-1.43.59L10.3 9.45l-7.72 7.72c-.78.78-.78 2.05 0 2.83L4 21.41c.39.39.9.59 1.41.59.51 0 1.02-.2 1.41-.59l7.78-7.78 2.81-2.81c.8-.78.8-2.07 0-2.86zM5.41 20L4 18.59l7.72-7.72 1.47 1.35L5.41 20z\"/>\n",
              "  </svg>\n",
              "      </button>\n",
              "\n",
              "\n",
              "\n",
              "    <div id=\"df-ddd72dff-df6f-49fb-b27f-6a4d5e38e9ef\">\n",
              "      <button class=\"colab-df-quickchart\" onclick=\"quickchart('df-ddd72dff-df6f-49fb-b27f-6a4d5e38e9ef')\"\n",
              "              title=\"Suggest charts.\"\n",
              "              style=\"display:none;\">\n",
              "\n",
              "<svg xmlns=\"http://www.w3.org/2000/svg\" height=\"24px\"viewBox=\"0 0 24 24\"\n",
              "     width=\"24px\">\n",
              "    <g>\n",
              "        <path d=\"M19 3H5c-1.1 0-2 .9-2 2v14c0 1.1.9 2 2 2h14c1.1 0 2-.9 2-2V5c0-1.1-.9-2-2-2zM9 17H7v-7h2v7zm4 0h-2V7h2v10zm4 0h-2v-4h2v4z\"/>\n",
              "    </g>\n",
              "</svg>\n",
              "      </button>\n",
              "    </div>\n",
              "\n",
              "<style>\n",
              "  .colab-df-quickchart {\n",
              "    background-color: #E8F0FE;\n",
              "    border: none;\n",
              "    border-radius: 50%;\n",
              "    cursor: pointer;\n",
              "    display: none;\n",
              "    fill: #1967D2;\n",
              "    height: 32px;\n",
              "    padding: 0 0 0 0;\n",
              "    width: 32px;\n",
              "  }\n",
              "\n",
              "  .colab-df-quickchart:hover {\n",
              "    background-color: #E2EBFA;\n",
              "    box-shadow: 0px 1px 2px rgba(60, 64, 67, 0.3), 0px 1px 3px 1px rgba(60, 64, 67, 0.15);\n",
              "    fill: #174EA6;\n",
              "  }\n",
              "\n",
              "  [theme=dark] .colab-df-quickchart {\n",
              "    background-color: #3B4455;\n",
              "    fill: #D2E3FC;\n",
              "  }\n",
              "\n",
              "  [theme=dark] .colab-df-quickchart:hover {\n",
              "    background-color: #434B5C;\n",
              "    box-shadow: 0px 1px 3px 1px rgba(0, 0, 0, 0.15);\n",
              "    filter: drop-shadow(0px 1px 2px rgba(0, 0, 0, 0.3));\n",
              "    fill: #FFFFFF;\n",
              "  }\n",
              "</style>\n",
              "\n",
              "    <script>\n",
              "      async function quickchart(key) {\n",
              "        const containerElement = document.querySelector('#' + key);\n",
              "        const charts = await google.colab.kernel.invokeFunction(\n",
              "            'suggestCharts', [key], {});\n",
              "      }\n",
              "    </script>\n",
              "\n",
              "      <script>\n",
              "\n",
              "function displayQuickchartButton(domScope) {\n",
              "  let quickchartButtonEl =\n",
              "    domScope.querySelector('#df-ddd72dff-df6f-49fb-b27f-6a4d5e38e9ef button.colab-df-quickchart');\n",
              "  quickchartButtonEl.style.display =\n",
              "    google.colab.kernel.accessAllowed ? 'block' : 'none';\n",
              "}\n",
              "\n",
              "        displayQuickchartButton(document);\n",
              "      </script>\n",
              "      <style>\n",
              "    .colab-df-container {\n",
              "      display:flex;\n",
              "      flex-wrap:wrap;\n",
              "      gap: 12px;\n",
              "    }\n",
              "\n",
              "    .colab-df-convert {\n",
              "      background-color: #E8F0FE;\n",
              "      border: none;\n",
              "      border-radius: 50%;\n",
              "      cursor: pointer;\n",
              "      display: none;\n",
              "      fill: #1967D2;\n",
              "      height: 32px;\n",
              "      padding: 0 0 0 0;\n",
              "      width: 32px;\n",
              "    }\n",
              "\n",
              "    .colab-df-convert:hover {\n",
              "      background-color: #E2EBFA;\n",
              "      box-shadow: 0px 1px 2px rgba(60, 64, 67, 0.3), 0px 1px 3px 1px rgba(60, 64, 67, 0.15);\n",
              "      fill: #174EA6;\n",
              "    }\n",
              "\n",
              "    [theme=dark] .colab-df-convert {\n",
              "      background-color: #3B4455;\n",
              "      fill: #D2E3FC;\n",
              "    }\n",
              "\n",
              "    [theme=dark] .colab-df-convert:hover {\n",
              "      background-color: #434B5C;\n",
              "      box-shadow: 0px 1px 3px 1px rgba(0, 0, 0, 0.15);\n",
              "      filter: drop-shadow(0px 1px 2px rgba(0, 0, 0, 0.3));\n",
              "      fill: #FFFFFF;\n",
              "    }\n",
              "  </style>\n",
              "\n",
              "      <script>\n",
              "        const buttonEl =\n",
              "          document.querySelector('#df-02d235f0-d721-480d-89be-cdae905d5053 button.colab-df-convert');\n",
              "        buttonEl.style.display =\n",
              "          google.colab.kernel.accessAllowed ? 'block' : 'none';\n",
              "\n",
              "        async function convertToInteractive(key) {\n",
              "          const element = document.querySelector('#df-02d235f0-d721-480d-89be-cdae905d5053');\n",
              "          const dataTable =\n",
              "            await google.colab.kernel.invokeFunction('convertToInteractive',\n",
              "                                                     [key], {});\n",
              "          if (!dataTable) return;\n",
              "\n",
              "          const docLinkHtml = 'Like what you see? Visit the ' +\n",
              "            '<a target=\"_blank\" href=https://colab.research.google.com/notebooks/data_table.ipynb>data table notebook</a>'\n",
              "            + ' to learn more about interactive tables.';\n",
              "          element.innerHTML = '';\n",
              "          dataTable['output_type'] = 'display_data';\n",
              "          await google.colab.output.renderOutput(dataTable, element);\n",
              "          const docLink = document.createElement('div');\n",
              "          docLink.innerHTML = docLinkHtml;\n",
              "          element.appendChild(docLink);\n",
              "        }\n",
              "      </script>\n",
              "    </div>\n",
              "  </div>\n"
            ]
          },
          "metadata": {},
          "execution_count": 146
        }
      ]
    },
    {
      "cell_type": "markdown",
      "source": [
        "#Section 2. Functions for Heston (1993) model pricing and calibration"
      ],
      "metadata": {
        "id": "i9pZyYrmyGl9"
      }
    },
    {
      "cell_type": "code",
      "source": [
        "i = 0\n",
        "min_MSE = 500\n",
        "local_opt = False"
      ],
      "metadata": {
        "id": "DTpUGhGJX69P"
      },
      "execution_count": null,
      "outputs": []
    },
    {
      "cell_type": "code",
      "source": [
        "def H93_calibration(error_func):\n",
        "    \"\"\"Calibrates Heston (1993) stochastic volatility model to market quotes.\"\"\"\n",
        "    # First run with brute force\n",
        "    # (scan sensible regions, for faster convergence)\n",
        "    p0 = brute(\n",
        "        error_func,\n",
        "        (\n",
        "            (2.5, 10.6, 5.0),  # kappa_v\n",
        "            (0.01, 0.041, 0.01),  # theta_v\n",
        "            (0.05, 0.251, 0.1),  # sigma_v\n",
        "            (-0.75, 0.01, 0.25),  # rho\n",
        "            (0.01, 0.031, 0.01), # v0\n",
        "        ),\n",
        "        finish=None,\n",
        "    )\n",
        "\n",
        "    # Second run with local, convex minimization\n",
        "    # (we dig deeper where promising results)\n",
        "    opt = fmin(\n",
        "        error_func, p0, xtol=0.000001, ftol=0.000001, maxiter=950, maxfun=900\n",
        "    )\n",
        "    return opt"
      ],
      "metadata": {
        "id": "Eqofd34KCxvt"
      },
      "execution_count": null,
      "outputs": []
    },
    {
      "cell_type": "code",
      "source": [
        "def H93_error_lewis(p0):\n",
        "    \"\"\"Error function for parameter calibration via\n",
        "    Lewis (2001) Fourier approach for Heston (1993).\n",
        "    Parameters\n",
        "    ==========\n",
        "    kappa_v: float\n",
        "        mean-reversion factor\n",
        "    theta_v: float\n",
        "        long-run mean of variance\n",
        "    sigma_v: float\n",
        "        volatility of variance\n",
        "    rho: float\n",
        "        correlation between variance and stock/index level\n",
        "    v0: float\n",
        "        initial, instantaneous variance\n",
        "    Returns\n",
        "    =======\n",
        "    MSE: float\n",
        "        mean squared error\n",
        "    \"\"\"\n",
        "    global i, min_MSE\n",
        "    kappa_v, theta_v, sigma_v, rho, v0 = p0\n",
        "    if kappa_v < 0.0 or theta_v < 0.005 or sigma_v < 0.0 or rho < -1.0 or rho > 1.0:\n",
        "        return 500.0\n",
        "    if 2 * kappa_v * theta_v < sigma_v**2:\n",
        "        return 500.0\n",
        "    se = []\n",
        "    for row, option in options_short_mat.iterrows():\n",
        "        model_value = H93_price_lewis(\n",
        "            S0,\n",
        "            option[\"Strike\"],\n",
        "            option[\"T\"],\n",
        "            option[\"r\"],\n",
        "            kappa_v,\n",
        "            theta_v,\n",
        "            sigma_v,\n",
        "            rho,\n",
        "            v0,\n",
        "            option[\"Type\"],\n",
        "        )\n",
        "        se.append((model_value - option[\"Price\"]) ** 2)\n",
        "    MSE = sum(se) / len(se)\n",
        "    min_MSE = min(min_MSE, MSE)\n",
        "    if i % 100 == 0:\n",
        "        print(\"%4d |\" % i, np.array(p0), \"| %7.3f | %7.3f\" % (MSE, min_MSE))\n",
        "    i += 1\n",
        "    return MSE"
      ],
      "metadata": {
        "id": "9oHeCmSWYfju"
      },
      "execution_count": null,
      "outputs": []
    },
    {
      "cell_type": "code",
      "source": [
        "def H93_price_lewis(S0, K, T, r, kappa_v, theta_v, sigma_v, rho, v0, type):\n",
        "    \"\"\"Valuation of European call option in H93 model via Lewis (2001)\n",
        "\n",
        "    Parameter definition:\n",
        "    ==========\n",
        "    S0: float\n",
        "        initial stock/index level\n",
        "    K: float\n",
        "        strike price\n",
        "    T: float\n",
        "        time-to-maturity (for t=0)\n",
        "    r: float\n",
        "        constant risk-free short rate\n",
        "    kappa_v: float\n",
        "        mean-reversion factor\n",
        "    theta_v: float\n",
        "        long-run mean of variance\n",
        "    sigma_v: float\n",
        "        volatility of variance\n",
        "    rho: float\n",
        "        correlation between variance and stock/index level\n",
        "    v0: float\n",
        "        initial level of variance\n",
        "    Returns\n",
        "    =======\n",
        "    call_value: float\n",
        "        present value of European call option\n",
        "    \"\"\"\n",
        "    int_value = quad(\n",
        "        lambda u: H93_int_func(u, S0, K, T, r, kappa_v, theta_v, sigma_v, rho, v0),\n",
        "        0,\n",
        "        np.inf,\n",
        "        limit=250,\n",
        "    )[0]\n",
        "    call_value = max(0, S0 - np.exp(-r * T) * np.sqrt(S0 * K) / np.pi * int_value)\n",
        "    if type == \"C\":\n",
        "      return call_value\n",
        "    else:\n",
        "      put_value = call_value + K * np.exp(-r * T) - S0\n",
        "      return put_value"
      ],
      "metadata": {
        "id": "BIIiCL7kbmXB"
      },
      "execution_count": null,
      "outputs": []
    },
    {
      "cell_type": "code",
      "source": [
        "def H93_error_carrM(p0):\n",
        "    \"\"\"Error function for parameter calibration via\n",
        "    Lewis (2001) Fourier approach for Heston (1993).\n",
        "    Parameters\n",
        "    ==========\n",
        "    kappa_v: float\n",
        "        mean-reversion factor\n",
        "    theta_v: float\n",
        "        long-run mean of variance\n",
        "    sigma_v: float\n",
        "        volatility of variance\n",
        "    rho: float\n",
        "        correlation between variance and stock/index level\n",
        "    v0: float\n",
        "        initial, instantaneous variance\n",
        "    Returns\n",
        "    =======\n",
        "    MSE: float\n",
        "        mean squared error\n",
        "    \"\"\"\n",
        "    global i, min_MSE\n",
        "    kappa_v, theta_v, sigma_v, rho, v0 = p0\n",
        "    if kappa_v < 0.0 or theta_v < 0.005 or sigma_v < 0.0 or rho < -1.0 or rho > 1.0:\n",
        "        return 500.0\n",
        "    if 2 * kappa_v * theta_v < sigma_v**2:\n",
        "        return 500.0\n",
        "    se = []\n",
        "    for row, option in options_short_mat.iterrows():\n",
        "        model_value = H93_price_carrM(\n",
        "            S0,\n",
        "            option[\"Strike\"],\n",
        "            option[\"T\"],\n",
        "            option[\"r\"],\n",
        "            kappa_v,\n",
        "            theta_v,\n",
        "            sigma_v,\n",
        "            rho,\n",
        "            v0,\n",
        "            option[\"Type\"],\n",
        "        )\n",
        "        se.append((model_value - option[\"Price\"]) ** 2)\n",
        "    MSE = sum(se) / len(se)\n",
        "    min_MSE = min(min_MSE, MSE)\n",
        "    if i % 100 == 0:\n",
        "        print(\"%4d |\" % i, np.array(p0), \"| %7.3f | %7.3f\" % (MSE, min_MSE))\n",
        "    i += 1\n",
        "    return MSE"
      ],
      "metadata": {
        "id": "lDp9MFzkHRA5"
      },
      "execution_count": null,
      "outputs": []
    },
    {
      "cell_type": "code",
      "source": [
        "def H93_price_carrM(S0, K, T, r, kappa_v, theta_v, sigma_v, rho, v0, type):\n",
        "    \"\"\"European Call option price in BS under FFT\"\"\"\n",
        "\n",
        "    k = np.log(K / S0)\n",
        "    x0 = np.log(S0 / S0)\n",
        "    g = 1  # Factor to increase accuracy\n",
        "    N = g * 4096\n",
        "    eps = (g * 150) ** -1\n",
        "    eta = 2 * np.pi / (N * eps)\n",
        "    b = 0.5 * N * eps - k\n",
        "    u = np.arange(1, N + 1, 1)\n",
        "    vo = eta * (u - 1)\n",
        "\n",
        "    # Modifications to ensure integrability\n",
        "    if S0 >= 0.95 * K:  # ITM Case\n",
        "        alpha = 1.5\n",
        "        v = vo - (alpha + 1) * 1j\n",
        "        modcharFunc = np.exp(-r * T) * (\n",
        "            H93_char_func(u, T, r, kappa_v, theta_v, sigma_v, rho, v0)\n",
        "            / (alpha**2 + alpha - vo**2 + 1j * (2 * alpha + 1) * vo)\n",
        "        )\n",
        "\n",
        "    else:\n",
        "        alpha = 1.1\n",
        "        v = (vo - 1j * alpha) - 1j\n",
        "        modcharFunc1 = np.exp(-r * T) * (\n",
        "            1 / (1 + 1j * (vo - 1j * alpha))\n",
        "            - np.exp(r * T) / (1j * (vo - 1j * alpha))\n",
        "            - H93_char_func(u, T, r, kappa_v, theta_v, sigma_v, rho, v0)\n",
        "            / ((vo - 1j * alpha) ** 2 - 1j * (vo - 1j * alpha))\n",
        "        )\n",
        "\n",
        "        v = (vo + 1j * alpha) - 1j\n",
        "\n",
        "        modcharFunc2 = np.exp(-r * T) * (\n",
        "            1 / (1 + 1j * (vo + 1j * alpha))\n",
        "            - np.exp(r * T) / (1j * (vo + 1j * alpha))\n",
        "            - H93_char_func(u, T, r, kappa_v, theta_v, sigma_v, rho, v0)\n",
        "            / ((vo + 1j * alpha) ** 2 - 1j * (vo + 1j * alpha))\n",
        "        )\n",
        "\n",
        "    # Numerical FFT Routine\n",
        "    delt = np.zeros(N)\n",
        "    delt[0] = 1\n",
        "    j = np.arange(1, N + 1, 1)\n",
        "    SimpsonW = (3 + (-1) ** j - delt) / 3\n",
        "    if S0 >= 0.95 * K:\n",
        "        FFTFunc = np.exp(1j * b * vo) * modcharFunc * eta * SimpsonW\n",
        "        payoff = (fft(FFTFunc)).real\n",
        "        CallValueM = np.exp(-alpha * k) / np.pi * payoff\n",
        "    else:\n",
        "        FFTFunc = (\n",
        "            np.exp(1j * b * vo) * (modcharFunc1 - modcharFunc2) * 0.5 * eta * SimpsonW\n",
        "        )\n",
        "        payoff = (fft(FFTFunc)).real\n",
        "        CallValueM = payoff / (np.sinh(alpha * k) * np.pi)\n",
        "\n",
        "    pos = int((k + b) / eps)\n",
        "    CallValue = CallValueM[pos] * S0\n",
        "\n",
        "    if type == \"C\":\n",
        "      return CallValue\n",
        "    else:\n",
        "      put_value = CallValue + K * np.exp(-r * T) - S0\n",
        "      return put_value"
      ],
      "metadata": {
        "id": "GJREi5rTHTCI"
      },
      "execution_count": null,
      "outputs": []
    },
    {
      "cell_type": "code",
      "source": [
        "def H93_int_func(u, S0, K, T, r, kappa_v, theta_v, sigma_v, rho, v0):\n",
        "    \"\"\"\n",
        "    Fourier-based approach for Lewis (2001): Integration function.\n",
        "    \"\"\"\n",
        "    char_func_value = H93_char_func(\n",
        "        u - 1j * 0.5, T, r, kappa_v, theta_v, sigma_v, rho, v0\n",
        "    )\n",
        "    int_func_value = (\n",
        "        1 / (u**2 + 0.25) * (np.exp(1j * u * np.log(S0 / K)) * char_func_value).real\n",
        "    )\n",
        "    return int_func_value"
      ],
      "metadata": {
        "id": "FmnvB4AGbnKB"
      },
      "execution_count": null,
      "outputs": []
    },
    {
      "cell_type": "code",
      "source": [
        "def H93_char_func(u, T, r, kappa_v, theta_v, sigma_v, rho, v0):\n",
        "    \"\"\"Valuation of European call option in H93 model via Lewis (2001)\n",
        "    Fourier-based approach: characteristic function.\n",
        "    Parameter definitions see function BCC_call_value.\"\"\"\n",
        "    c1 = kappa_v * theta_v\n",
        "    c2 = -np.sqrt(\n",
        "        (rho * sigma_v * u * 1j - kappa_v) ** 2 - sigma_v**2 * (-u * 1j - u**2)\n",
        "    )\n",
        "    c3 = (kappa_v - rho * sigma_v * u * 1j + c2) / (\n",
        "        kappa_v - rho * sigma_v * u * 1j - c2\n",
        "    )\n",
        "    H1 = r * u * 1j * T + (c1 / sigma_v**2) * (\n",
        "        (kappa_v - rho * sigma_v * u * 1j + c2) * T\n",
        "        - 2 * np.log((1 - c3 * np.exp(c2 * T)) / (1 - c3))\n",
        "    )\n",
        "    H2 = (\n",
        "        (kappa_v - rho * sigma_v * u * 1j + c2)\n",
        "        / sigma_v**2\n",
        "        * ((1 - np.exp(c2 * T)) / (1 - c3 * np.exp(c2 * T)))\n",
        "    )\n",
        "    char_func_value = np.exp(H1 + H2 * v0)\n",
        "    return char_func_value"
      ],
      "metadata": {
        "id": "DA311b2YbomA"
      },
      "execution_count": null,
      "outputs": []
    },
    {
      "cell_type": "code",
      "source": [
        "def H93_calculate_model_values(p0, price_func, option_df):\n",
        "    \"\"\"Calculates all model values given parameter vector p0.\"\"\"\n",
        "    kappa_v, theta_v, sigma_v, rho, v0 = p0\n",
        "    values = []\n",
        "    for row, option in option_df.iterrows():\n",
        "        model_value = price_func(\n",
        "            S0,\n",
        "            option[\"Strike\"],\n",
        "            option[\"T\"],\n",
        "            option[\"r\"],\n",
        "            kappa_v,\n",
        "            theta_v,\n",
        "            sigma_v,\n",
        "            rho,\n",
        "            v0,\n",
        "            option[\"Type\"],\n",
        "        )\n",
        "        values.append(model_value)\n",
        "    return np.array(values)"
      ],
      "metadata": {
        "id": "xEU45RGOSI3q"
      },
      "execution_count": null,
      "outputs": []
    },
    {
      "cell_type": "code",
      "source": [
        "def plot_calibration_results(p0, calculate_model_func, price_func, option_df):\n",
        "    modelValue = calculate_model_func(p0, price_func, option_df)\n",
        "    plt.figure(figsize=(8, 6))\n",
        "    plt.subplot(211)\n",
        "    plt.grid()\n",
        "    plt.title(\"Maturity %s\" % str(options[\"Days to maturity\"].iloc[0])[:10])\n",
        "    plt.ylabel(\"option values\")\n",
        "    plt.plot(option_df.Strike, option_df.Price, \"b\", label=\"market\")\n",
        "    plt.plot(option_df.Strike, modelValue, \"ro\", label=\"model\")\n",
        "    plt.legend(loc=0)\n",
        "    plt.axis(\n",
        "        [\n",
        "            min(option_df.Strike) - 10,\n",
        "            max(option_df.Strike) + 10,\n",
        "            min(option_df.Price) - 10,\n",
        "            max(option_df.Price) + 10,\n",
        "        ]\n",
        "    )\n",
        "    plt.subplot(212)\n",
        "    plt.grid()\n",
        "    wi = 5.0\n",
        "    diffs = modelValue - option_df.Price\n",
        "    plt.bar(option_df.Strike.values - wi / 2, diffs, width=wi)\n",
        "    plt.ylabel(\"difference\")\n",
        "    plt.axis(\n",
        "        [\n",
        "            min(option_df.Strike) - 10,\n",
        "            max(option_df.Strike) + 10,\n",
        "            min(diffs) * 1.1,\n",
        "            max(diffs) * 1.1,\n",
        "        ]\n",
        "    )\n",
        "    plt.tight_layout()"
      ],
      "metadata": {
        "id": "LQO5SNM-Vezb"
      },
      "execution_count": null,
      "outputs": []
    },
    {
      "cell_type": "markdown",
      "source": [
        "#Section 3 Heston (1993) Model Calibration\n",
        "##Step 1\n",
        "##a. Calibrate Heston (1993) model without jumps using Lewis approach and options with maturisy = 15 days"
      ],
      "metadata": {
        "id": "kChxapMGxI4-"
      }
    },
    {
      "cell_type": "code",
      "source": [
        "params_hesten_lewis = H93_calibration(H93_error_lewis)"
      ],
      "metadata": {
        "colab": {
          "base_uri": "https://localhost:8080/"
        },
        "id": "ta6__0V9VcxM",
        "outputId": "da8c815e-37a7-4e11-c91c-76eeecda7d77"
      },
      "execution_count": null,
      "outputs": [
        {
          "output_type": "stream",
          "name": "stdout",
          "text": [
            "   0 | [ 2.5   0.01  0.05 -0.75  0.01] |  20.086 |  20.086\n",
            " 100 | [ 2.5   0.04  0.05 -0.5   0.02] |  12.679 |   8.761\n",
            " 200 | [ 7.5   0.02  0.25 -0.25  0.03] |   9.815 |   8.759\n",
            " 300 | [ 7.10037179  0.05742843  0.11352214 -0.46596154  0.04611934] |   4.121 |   4.121\n",
            " 400 | [5.50586718e+00 1.19665034e-01 1.04253404e-04 5.11531255e-01\n",
            " 9.02377801e-02] |   0.345 |   0.345\n"
          ]
        },
        {
          "output_type": "stream",
          "name": "stderr",
          "text": [
            "<ipython-input-150-13f4e917971b>:29: IntegrationWarning: The occurrence of roundoff error is detected, which prevents \n",
            "  the requested tolerance from being achieved.  The error may be \n",
            "  underestimated.\n",
            "  int_value = quad(\n",
            "<ipython-input-150-13f4e917971b>:29: IntegrationWarning: The maximum number of subdivisions (250) has been achieved.\n",
            "  If increasing the limit yields no improvement it is advised to analyze \n",
            "  the integrand in order to determine the difficulties.  If the position of a \n",
            "  local difficulty can be determined (singularity, discontinuity) one will \n",
            "  probably gain from splitting up the interval and calling the integrator \n",
            "  on the subranges.  Perhaps a special-purpose integrator should be used.\n",
            "  int_value = quad(\n"
          ]
        },
        {
          "output_type": "stream",
          "name": "stdout",
          "text": [
            " 500 | [5.53737560e+00 1.19801898e-01 6.30401694e-06 5.16620087e-01\n",
            " 9.02583148e-02] |   0.345 |   0.345\n",
            " 600 | [5.53755436e+00 1.19802387e-01 6.28028326e-06 5.16645131e-01\n",
            " 9.02583180e-02] |   0.345 |   0.345\n",
            " 700 | [5.53755409e+00 1.19802387e-01 6.28013183e-06 5.16645086e-01\n",
            " 9.02583177e-02] |   0.345 |   0.345\n",
            " 800 | [5.53755409e+00 1.19802387e-01 6.28013179e-06 5.16645086e-01\n",
            " 9.02583177e-02] |   0.345 |   0.345\n",
            "Optimization terminated successfully.\n",
            "         Current function value: 0.344513\n",
            "         Iterations: 305\n",
            "         Function evaluations: 668\n"
          ]
        }
      ]
    },
    {
      "cell_type": "code",
      "source": [
        "# Use call options market price with maturity = 15 days to observe model fitness\n",
        "options_short_call = options_short_mat[options_short_mat[\"Type\"] == \"C\"]\n",
        "plot_calibration_results(params_hesten_lewis, H93_calculate_model_values, H93_price_lewis,options_short_call)"
      ],
      "metadata": {
        "colab": {
          "base_uri": "https://localhost:8080/",
          "height": 681
        },
        "id": "hQKdqcCHVmYb",
        "outputId": "05c1a4f3-ac4c-47df-fd93-a944a888bb56"
      },
      "execution_count": null,
      "outputs": [
        {
          "output_type": "stream",
          "name": "stderr",
          "text": [
            "<ipython-input-150-13f4e917971b>:29: IntegrationWarning: The occurrence of roundoff error is detected, which prevents \n",
            "  the requested tolerance from being achieved.  The error may be \n",
            "  underestimated.\n",
            "  int_value = quad(\n"
          ]
        },
        {
          "output_type": "display_data",
          "data": {
            "text/plain": [
              "<Figure size 800x600 with 2 Axes>"
            ],
            "image/png": "[encoded data removed]"
          },
          "metadata": {}
        }
      ]
    },
    {
      "cell_type": "markdown",
      "source": [
        "##b. Calibrate Heston (1993) model without jumps using Carr-Madan approach and options with maturisy = 15 days"
      ],
      "metadata": {
        "id": "8cjlVJL0xLsb"
      }
    },
    {
      "cell_type": "code",
      "source": [
        "params_hesten_carrM = H93_calibration(H93_error_carrM)"
      ],
      "metadata": {
        "id": "A6J14eZecqDO",
        "colab": {
          "base_uri": "https://localhost:8080/"
        },
        "outputId": "e506750a-04bc-4bb7-ead0-26b7ea7ef377"
      },
      "execution_count": null,
      "outputs": [
        {
          "output_type": "stream",
          "name": "stdout",
          "text": [
            " 900 | [ 2.5   0.01  0.05 -0.75  0.03] |  16.785 |   0.345\n",
            "1000 | [ 2.5   0.04  0.05 -0.25  0.01] |   2.583 |   0.345\n",
            "1100 | [7.5  0.02 0.25 0.   0.02] |   8.420 |   0.345\n",
            "1200 | [7.76419381e+00 1.02482158e-02 2.78612910e-01 3.53472089e-04\n",
            " 7.28349570e-03] |   0.535 |   0.345\n",
            "1300 | [7.97059205e+00 1.03206934e-02 2.83318062e-01 1.55822286e-04\n",
            " 6.81259690e-03] |   0.520 |   0.345\n",
            "1400 | [ 1.23306206e+01  3.17390587e-02  6.67230480e-01 -2.72797706e-02\n",
            " -1.72529141e-03] |   0.511 |   0.345\n",
            "1500 | [ 1.56439862e+01  4.90191111e-02  1.01469677e+00 -4.65861975e-02\n",
            " -1.47860278e-02] |   0.502 |   0.345\n",
            "1600 | [18.09054645  0.07293263  1.53376687 -0.07104497 -0.03705112] |   0.490 |   0.345\n",
            "1700 | [18.87836976  0.08402513  1.78115538 -0.08197249 -0.0481118 ] |   0.483 |   0.345\n",
            "1800 | [18.87955662  0.08402465  1.78120529 -0.08197812 -0.0481195 ] |   0.483 |   0.345\n",
            "1900 | [21.26561113  0.08838845  1.93866027 -0.09436451 -0.06086602] |   0.480 |   0.345\n"
          ]
        },
        {
          "output_type": "stream",
          "name": "stderr",
          "text": [
            "<ipython-input-148-ac197eebb5c7>:19: RuntimeWarning: Maximum number of function evaluations has been exceeded.\n",
            "  opt = fmin(\n"
          ]
        }
      ]
    },
    {
      "cell_type": "code",
      "source": [
        "plot_calibration_results(params_hesten_carrM, H93_calculate_model_values, H93_price_carrM, options_short_call)"
      ],
      "metadata": {
        "id": "meAZlbzrcyBv",
        "colab": {
          "base_uri": "https://localhost:8080/",
          "height": 607
        },
        "outputId": "c20497b7-c537-45c7-8626-d21e7d74007a"
      },
      "execution_count": null,
      "outputs": [
        {
          "output_type": "display_data",
          "data": {
            "text/plain": [
              "<Figure size 800x600 with 2 Axes>"
            ],
            "image/png": "[encoded data removed]"
          },
          "metadata": {}
        }
      ]
    },
    {
      "cell_type": "markdown",
      "source": [
        "## c. Price Asian option using Monte Carlo"
      ],
      "metadata": {
        "id": "WIrLIkqABMxX"
      }
    },
    {
      "cell_type": "markdown",
      "source": [
        "#Section 4. Functions for Bates (1996) model pricing and calibration\n",
        "##a. Functions for calibration of the jump component"
      ],
      "metadata": {
        "id": "u3kvZk_A2IjP"
      }
    },
    {
      "cell_type": "code",
      "source": [
        "# get parameters from calibration of the Heston (1993) model\n",
        "kappa_v, theta_v, sigma_v, rho, v0 = params_hesten_lewis"
      ],
      "metadata": {
        "id": "nQh3wjy65o3B"
      },
      "execution_count": null,
      "outputs": []
    },
    {
      "cell_type": "code",
      "source": [
        "def B96_calibration_jump(erro_func):\n",
        "    \"\"\"\n",
        "    Calibrates jump component of Bates (1996) model to market prices\n",
        "    \"\"\"\n",
        "    # First, we run with brute force\n",
        "    # (scan sensible regions)\n",
        "    opt1 = 0.0\n",
        "    opt1 = brute(\n",
        "        erro_func,\n",
        "        (\n",
        "            (0.0, 0.51, 0.1),  # lambda\n",
        "            (-0.5, -0.11, 0.1),  # mu\n",
        "            (0.0, 0.51, 0.25), # delta\n",
        "        ),\n",
        "        finish=None,\n",
        "    )\n",
        "\n",
        "    # Second, we run with local, convex minimization\n",
        "    # (dig deeper where promising)\n",
        "    opt2 = fmin(\n",
        "        erro_func,\n",
        "        opt1,\n",
        "        xtol=0.0000001,\n",
        "        ftol=0.0000001,\n",
        "        maxiter=550,\n",
        "        maxfun=750,\n",
        "    )\n",
        "    return opt2"
      ],
      "metadata": {
        "id": "Y6_TI-yHB-i5"
      },
      "execution_count": null,
      "outputs": []
    },
    {
      "cell_type": "code",
      "source": [
        "def B96_error_lewis(p0):\n",
        "    \"\"\"\n",
        "    Error function for Bates (1996) model\n",
        "\n",
        "    Parameters:\n",
        "    -------------\n",
        "    lamb: float\n",
        "        jump intensity\n",
        "    mu: float\n",
        "        expected jump size\n",
        "    delta: float\n",
        "        standard deviation of jump\n",
        "    Returns\n",
        "    -------------\n",
        "    MSE: float\n",
        "        mean squared error\n",
        "    \"\"\"\n",
        "\n",
        "    global i, min_MSE, local_opt, opt1\n",
        "    lamb, mu, delta = p0\n",
        "    if lamb < 0.0 or mu < -0.6 or mu > 0.0 or delta < 0.0:\n",
        "        return 5000.0\n",
        "    se = []\n",
        "    for row, option in options_long_mat.iterrows():\n",
        "        model_value = B96_price_lewis(\n",
        "            S0,\n",
        "            option[\"Strike\"],\n",
        "            option[\"T\"],\n",
        "            option[\"r\"],\n",
        "            kappa_v,\n",
        "            theta_v,\n",
        "            sigma_v,\n",
        "            rho,\n",
        "            v0,\n",
        "            lamb,\n",
        "            mu,\n",
        "            delta,\n",
        "            option[\"Type\"],\n",
        "        )\n",
        "        se.append((model_value - option[\"Price\"]) ** 2)\n",
        "    MSE = sum(se) / len(se)\n",
        "    min_MSE = min(min_MSE, MSE)\n",
        "    if i % 25 == 0:\n",
        "        print(\"%4d |\" % i, np.array(p0), \"| %7.3f | %7.3f\" % (MSE, min_MSE))\n",
        "    i += 1\n",
        "    if local_opt:\n",
        "        penalty = np.sqrt(np.sum((p0 - opt1) ** 2)) * 1\n",
        "        return MSE + penalty\n",
        "    return MSE"
      ],
      "metadata": {
        "id": "mXM3Ljuw5pLL"
      },
      "execution_count": null,
      "outputs": []
    },
    {
      "cell_type": "code",
      "source": [
        "def B96_price_lewis(S0, K, T, r, kappa_v, theta_v, sigma_v, rho, v0, lamb, mu, delta, type):\n",
        "    \"\"\"\n",
        "    Valuation of European call option in B96 Model via Lewis (2001)\n",
        "    Parameters:\n",
        "    ==========\n",
        "    S0: float\n",
        "        initial stock/index level\n",
        "    K: float\n",
        "        strike price\n",
        "    T: float\n",
        "        time-to-maturity (for t=0)\n",
        "    r: float\n",
        "        constant risk-free short rate\n",
        "    kappa_v: float\n",
        "        mean-reversion factor\n",
        "    theta_v: float\n",
        "        long-run mean of variance\n",
        "    sigma_v: float\n",
        "        volatility of variance\n",
        "    rho: float\n",
        "        correlation between variance and stock/index level\n",
        "    v0: float\n",
        "        initial level of variance\n",
        "    lamb: float\n",
        "        jump intensity\n",
        "    mu: float\n",
        "        expected jump size\n",
        "    delta: float\n",
        "        standard deviation of jump\n",
        "    ==========\n",
        "    \"\"\"\n",
        "    int_value = quad(\n",
        "        lambda u: B96_int_func(\n",
        "            u, S0, K, T, r, kappa_v, theta_v, sigma_v, rho, v0, lamb, mu, delta\n",
        "        ),\n",
        "        0,\n",
        "        np.inf,\n",
        "        limit=250,\n",
        "    )[0]\n",
        "    call_value = max(0, S0 - np.exp(-r * T) * np.sqrt(S0 * K) / np.pi * int_value)\n",
        "    if type == \"C\":\n",
        "      return call_value\n",
        "    else:\n",
        "      put_value = call_value + K * np.exp(-r * T) - S0\n",
        "      return put_value"
      ],
      "metadata": {
        "id": "hxKMd_Eu5pSr"
      },
      "execution_count": null,
      "outputs": []
    },
    {
      "cell_type": "code",
      "source": [
        "def B96_error_carrM(p0):\n",
        "    \"\"\"\n",
        "    Error function for Bates (1996) model\n",
        "\n",
        "    Parameters:\n",
        "    -------------\n",
        "    lamb: float\n",
        "        jump intensity\n",
        "    mu: float\n",
        "        expected jump size\n",
        "    delta: float\n",
        "        standard deviation of jump\n",
        "    Returns\n",
        "    -------------\n",
        "    MSE: float\n",
        "        mean squared error\n",
        "    \"\"\"\n",
        "\n",
        "    global i, min_MSE, local_opt, opt1\n",
        "    lamb, mu, delta = p0\n",
        "    if lamb < 0.0 or mu < -0.6 or mu > 0.0 or delta < 0.0:\n",
        "        return 5000.0\n",
        "    se = []\n",
        "    for row, option in options_long_mat.iterrows():\n",
        "        model_value = B96_price_carrM(\n",
        "            S0,\n",
        "            option[\"Strike\"],\n",
        "            option[\"T\"],\n",
        "            option[\"r\"],\n",
        "            kappa_v,\n",
        "            theta_v,\n",
        "            sigma_v,\n",
        "            rho,\n",
        "            v0,\n",
        "            lamb,\n",
        "            mu,\n",
        "            delta,\n",
        "            option[\"Type\"],\n",
        "        )\n",
        "        se.append((model_value - option[\"Price\"]) ** 2)\n",
        "    MSE = sum(se) / len(se)\n",
        "    min_MSE = min(min_MSE, MSE)\n",
        "    if i % 25 == 0:\n",
        "        print(\"%4d |\" % i, np.array(p0), \"| %7.3f | %7.3f\" % (MSE, min_MSE))\n",
        "    i += 1\n",
        "    if local_opt:\n",
        "        penalty = np.sqrt(np.sum((p0 - opt1) ** 2)) * 1\n",
        "        return MSE + penalty\n",
        "    return MSE"
      ],
      "metadata": {
        "id": "QGNbgXHP5phK"
      },
      "execution_count": null,
      "outputs": []
    },
    {
      "cell_type": "code",
      "source": [
        "def B96_price_carrM(S0, K, T, r, kappa_v, theta_v, sigma_v, rho, v0, lamb, mu, delta, type):\n",
        "    \"\"\"\n",
        "    Call option price in Bates (1996) under FFT\n",
        "    \"\"\"\n",
        "\n",
        "    k = np.log(K / S0)\n",
        "    g = 1  # Factor to increase accuracy\n",
        "    N = g * 4096\n",
        "    eps = (g * 150) ** -1\n",
        "    eta = 2 * np.pi / (N * eps)\n",
        "    b = 0.5 * N * eps - k\n",
        "    u = np.arange(1, N + 1, 1)\n",
        "    vo = eta * (u - 1)\n",
        "\n",
        "    # Modifications to ensure integrability\n",
        "    if S0 >= 0.95 * K:  # ITM Case\n",
        "        alpha = 1.5\n",
        "        v = vo - (alpha + 1) * 1j\n",
        "        modcharFunc = np.exp(-r * T) * (\n",
        "            B96_char_func(v, T, r, kappa_v, theta_v, sigma_v, rho, v0, lamb, mu, delta)\n",
        "            / (alpha**2 + alpha - vo**2 + 1j * (2 * alpha + 1) * vo)\n",
        "        )\n",
        "\n",
        "    else:\n",
        "        alpha = 1.1\n",
        "        v = (vo - 1j * alpha) - 1j\n",
        "        modcharFunc1 = np.exp(-r * T) * (\n",
        "            1 / (1 + 1j * (vo - 1j * alpha))\n",
        "            - np.exp(r * T) / (1j * (vo - 1j * alpha))\n",
        "            - B96_char_func(\n",
        "                v, T, r, kappa_v, theta_v, sigma_v, rho, v0, lamb, mu, delta\n",
        "            )\n",
        "            / ((vo - 1j * alpha) ** 2 - 1j * (vo - 1j * alpha))\n",
        "        )\n",
        "\n",
        "        v = (vo + 1j * alpha) - 1j\n",
        "\n",
        "        modcharFunc2 = np.exp(-r * T) * (\n",
        "            1 / (1 + 1j * (vo + 1j * alpha))\n",
        "            - np.exp(r * T) / (1j * (vo + 1j * alpha))\n",
        "            - B96_char_func(\n",
        "                v, T, r, kappa_v, theta_v, sigma_v, rho, v0, lamb, mu, delta\n",
        "            )\n",
        "            / ((vo + 1j * alpha) ** 2 - 1j * (vo + 1j * alpha))\n",
        "        )\n",
        "\n",
        "    # Numerical FFT Routine\n",
        "    delt = np.zeros(N)\n",
        "    delt[0] = 1\n",
        "    j = np.arange(1, N + 1, 1)\n",
        "    SimpsonW = (3 + (-1) ** j - delt) / 3\n",
        "    if S0 >= 0.95 * K:\n",
        "        FFTFunc = np.exp(1j * b * vo) * modcharFunc * eta * SimpsonW\n",
        "        payoff = (np.fft.fft(FFTFunc)).real\n",
        "        CallValueM = np.exp(-alpha * k) / np.pi * payoff\n",
        "    else:\n",
        "        FFTFunc = (\n",
        "            np.exp(1j * b * vo) * (modcharFunc1 - modcharFunc2) * 0.5 * eta * SimpsonW\n",
        "        )\n",
        "        payoff = (np.fft.fft(FFTFunc)).real\n",
        "        CallValueM = payoff / (np.sinh(alpha * k) * np.pi)\n",
        "\n",
        "    pos = int((k + b) / eps)\n",
        "    CallValue = CallValueM[pos] * S0\n",
        "\n",
        "    if type == \"C\":\n",
        "      return CallValue\n",
        "    else:\n",
        "      put_value = CallValue + K * np.exp(-r * T) - S0\n",
        "      return put_value"
      ],
      "metadata": {
        "id": "VaUvIMPV5ppE"
      },
      "execution_count": null,
      "outputs": []
    },
    {
      "cell_type": "code",
      "source": [
        "def M76J_char_func(u, T, lamb, mu, delta):\n",
        "    \"\"\"\n",
        "    Adjusted Characteristic function for Merton '76 model: Only jump component\n",
        "    \"\"\"\n",
        "\n",
        "    omega = -lamb * (np.exp(mu + 0.5 * delta**2) - 1)\n",
        "    char_func_value = np.exp(\n",
        "        (1j * u * omega + lamb * (np.exp(1j * u * mu - u**2 * delta**2 * 0.5) - 1))\n",
        "        * T\n",
        "    )\n",
        "    return char_func_value"
      ],
      "metadata": {
        "id": "USBnQX2O2WZ_"
      },
      "execution_count": null,
      "outputs": []
    },
    {
      "cell_type": "code",
      "source": [
        "def B96_char_func(u, T, r, kappa_v, theta_v, sigma_v, rho, v0, lamb, mu, delta):\n",
        "    \"\"\"\n",
        "    Bates (1996) characteristic function\n",
        "    \"\"\"\n",
        "    H93 = H93_char_func(u, T, r, kappa_v, theta_v, sigma_v, rho, v0)\n",
        "    M76J = M76J_char_func(u, T, lamb, mu, delta)\n",
        "    return H93 * M76J"
      ],
      "metadata": {
        "id": "oiAzlWQN2WkR"
      },
      "execution_count": null,
      "outputs": []
    },
    {
      "cell_type": "code",
      "source": [
        "def B96_int_func(u, S0, K, T, r, kappa_v, theta_v, sigma_v, rho, v0, lamb, mu, delta):\n",
        "    \"\"\"\n",
        "    Lewis (2001) integral value for Bates (1996) characteristic function\n",
        "    \"\"\"\n",
        "    char_func_value = B96_char_func(\n",
        "        u - 1j * 0.5, T, r, kappa_v, theta_v, sigma_v, rho, v0, lamb, mu, delta\n",
        "    )\n",
        "    int_func_value = (\n",
        "        1 / (u**2 + 0.25) * (np.exp(1j * u * np.log(S0 / K)) * char_func_value).real\n",
        "    )\n",
        "    return int_func_value"
      ],
      "metadata": {
        "id": "dwoqm-S92Wmm"
      },
      "execution_count": null,
      "outputs": []
    },
    {
      "cell_type": "markdown",
      "source": [
        "## b. Functions for full Calibration of Bates model"
      ],
      "metadata": {
        "id": "vgMaEotq7Nnt"
      }
    },
    {
      "cell_type": "code",
      "source": [
        "# get parameters from calibration of the jump component using Levis approach\n",
        "lamb_lewis, mu_lewis, delta_lewis = B96_calibration_jump(B96_error_lewis)\n",
        "p0_lewis = [kappa_v, theta_v, sigma_v, rho, v0, lamb_lewis, mu_lewis, delta_lewis]"
      ],
      "metadata": {
        "colab": {
          "base_uri": "https://localhost:8080/"
        },
        "id": "af8n4FYa5AeK",
        "outputId": "b53e5e55-00b3-43d8-d269-4cb69ea03815"
      },
      "execution_count": null,
      "outputs": [
        {
          "output_type": "stream",
          "name": "stderr",
          "text": [
            "<ipython-input-165-10e51cfecfa2>:32: IntegrationWarning: The occurrence of roundoff error is detected, which prevents \n",
            "  the requested tolerance from being achieved.  The error may be \n",
            "  underestimated.\n",
            "  int_value = quad(\n"
          ]
        },
        {
          "output_type": "stream",
          "name": "stdout",
          "text": [
            "1950 | [ 0.  -0.5  0.5] |   1.616 |   0.345\n",
            "1975 | [ 0.2 -0.4  0. ] |   2.617 |   0.345\n",
            "2000 | [ 0.4  -0.4   0.25] |   7.200 |   0.345\n",
            "2025 | [ 1.03888889e-01 -2.07777778e-01  8.33333333e-05] |   1.547 |   0.345\n",
            "2050 | [ 0.16281093 -0.14840649  0.00141444] |   1.547 |   0.345\n",
            "2075 | [ 0.36229509 -0.10837631  0.00583842] |   1.543 |   0.345\n",
            "2100 | [ 0.54631675 -0.09149361  0.00976548] |   1.543 |   0.345\n",
            "2125 | [ 0.85590646 -0.06712433  0.0153343 ] |   1.542 |   0.345\n",
            "2150 | [ 1.28605573 -0.05202088  0.02176123] |   1.541 |   0.345\n",
            "2175 | [ 2.20843894 -0.02641498  0.03433976] |   1.541 |   0.345\n",
            "2200 | [ 2.68768392 -0.00838038  0.04081616] |   1.541 |   0.345\n",
            "2225 | [ 2.62350785e+00 -7.59267866e-04  3.97073734e-02] |   1.538 |   0.345\n",
            "2250 | [ 2.61295110e+00 -1.51476882e-05  3.95405040e-02] |   1.538 |   0.345\n",
            "2275 | [ 2.61239070e+00 -1.03435618e-07  3.95317762e-02] |   1.538 |   0.345\n",
            "2300 | [ 2.61249382e+00 -3.86471623e-09  3.95332104e-02] |   1.538 |   0.345\n",
            "2325 | [ 2.61261108e+00 -6.39475519e-10  3.95348315e-02] |   1.538 |   0.345\n",
            "2350 | [ 2.61263332e+00 -1.70197295e-11  3.95351390e-02] |   1.538 |   0.345\n",
            "2375 | [ 2.61263243e+00 -1.03873090e-13  3.95351267e-02] |   1.538 |   0.345\n",
            "Optimization terminated successfully.\n",
            "         Current function value: 1.538377\n",
            "         Iterations: 256\n",
            "         Function evaluations: 474\n"
          ]
        }
      ]
    },
    {
      "cell_type": "code",
      "source": [
        "# get parameters from calibration of the jump component using Carr-Madan approach\n",
        "lamb_carrM, mu_carrM, delta_carrM = B96_calibration_jump(B96_error_carrM)\n",
        "p0_carrM = [kappa_v, theta_v, sigma_v, rho, v0, lamb_carrM, mu_carrM, delta_carrM]"
      ],
      "metadata": {
        "colab": {
          "base_uri": "https://localhost:8080/"
        },
        "id": "TI1g1V2JEoRB",
        "outputId": "042568f9-83fe-4fe3-c16e-e8af51882d53"
      },
      "execution_count": null,
      "outputs": [
        {
          "output_type": "stream",
          "name": "stdout",
          "text": [
            "2400 | [ 0.1 -0.4  0. ] |   1.701 |   0.345\n",
            "2425 | [ 0.3  -0.4   0.25] |   4.481 |   0.345\n",
            "2450 | [ 0.5 -0.4  0.5] |  17.664 |   0.345\n",
            "2475 | [ 1.12186643e-01 -2.04023491e-01  1.64030350e-04] |   1.547 |   0.345\n",
            "2500 | [ 0.19496879 -0.14840149  0.00210398] |   1.545 |   0.345\n",
            "2525 | [ 0.38676849 -0.10333068  0.00644864] |   1.543 |   0.345\n",
            "2550 | [ 0.72748938 -0.07324395  0.01507234] |   1.542 |   0.345\n",
            "2575 | [ 1.12475313 -0.05602858  0.02503058] |   1.542 |   0.345\n",
            "2600 | [ 1.19643011 -0.05191422  0.02680094] |   1.542 |   0.345\n",
            "2625 | [ 1.6247741  -0.03551502  0.03617748] |   1.542 |   0.345\n",
            "2650 | [ 1.76912307 -0.02977875  0.03942433] |   1.541 |   0.345\n",
            "2675 | [ 1.7474476  -0.02141192  0.0435519 ] |   1.541 |   0.345\n",
            "2700 | [ 1.48533803e+00 -7.61908697e-04  5.27281296e-02] |   1.538 |   0.345\n",
            "2725 | [ 1.46975178e+00 -3.12649923e-06  5.30184038e-02] |   1.538 |   0.345\n",
            "2750 | [ 1.46890221e+00 -7.69497259e-08  5.30161780e-02] |   1.538 |   0.345\n",
            "2775 | [ 1.46839339e+00 -3.30248825e-10  5.30141455e-02] |   1.538 |   0.345\n",
            "2800 | [ 1.46846392e+00 -1.55769345e-11  5.30144432e-02] |   1.538 |   0.345\n",
            "2825 | [ 1.46847182e+00 -1.50072820e-12  5.30144809e-02] |   1.538 |   0.345\n",
            "2850 | [ 1.46847134e+00 -1.87693095e-14  5.30144787e-02] |   1.538 |   0.345\n",
            "Optimization terminated successfully.\n",
            "         Current function value: 1.538311\n",
            "         Iterations: 273\n",
            "         Function evaluations: 508\n"
          ]
        }
      ]
    },
    {
      "cell_type": "code",
      "source": [
        "from pandas.compat import PY310\n",
        "def B96_calibration_full(p0, error_func):\n",
        "    opt = fmin(\n",
        "        error_func, p0, xtol=0.001, ftol=0.001, maxiter=1250, maxfun=650\n",
        "    )\n",
        "    return opt"
      ],
      "metadata": {
        "id": "s0ZPrv7HEGZu"
      },
      "execution_count": null,
      "outputs": []
    },
    {
      "cell_type": "code",
      "source": [
        "i = 0\n",
        "min_MSE = 5000.0\n",
        "\n",
        "def B96_error_lewis_full(p0):\n",
        "    global i, min_MSE\n",
        "    kappa_v, theta_v, sigma_v, rho, v0, lamb, mu, delta = p0\n",
        "\n",
        "    if (\n",
        "        kappa_v < 0.0\n",
        "        or theta_v < 0.005\n",
        "        or sigma_v < 0.0\n",
        "        or rho < -1.0\n",
        "        or rho > 1.0\n",
        "        or v0 < 0.0\n",
        "        or lamb < 0.0\n",
        "        or mu < -0.6\n",
        "        or mu > 0.0\n",
        "        or delta < 0.0\n",
        "    ):\n",
        "        return 5000.0\n",
        "\n",
        "    if 2 * kappa_v * theta_v < sigma_v**2:\n",
        "        return 5000.0\n",
        "\n",
        "    se = []\n",
        "    for row, option in options_long_mat.iterrows():\n",
        "        model_value = B96_price_lewis(\n",
        "            S0,\n",
        "            option[\"Strike\"],\n",
        "            option[\"T\"],\n",
        "            option[\"r\"],\n",
        "            kappa_v,\n",
        "            theta_v,\n",
        "            sigma_v,\n",
        "            rho,\n",
        "            v0,\n",
        "            lamb,\n",
        "            mu,\n",
        "            delta,\n",
        "            option[\"Type\"],\n",
        "        )\n",
        "        se.append((model_value - option[\"Price\"]) ** 2)\n",
        "\n",
        "    MSE = sum(se) / len(se)\n",
        "    min_MSE = min(min_MSE, MSE)\n",
        "    if i % 25 == 0:\n",
        "        print(\"%4d |\" % i, np.array(p0), \"| %7.3f | %7.3f\" % (MSE, min_MSE))\n",
        "    i += 1\n",
        "    return MSE"
      ],
      "metadata": {
        "id": "uQP7WW752Wuz"
      },
      "execution_count": null,
      "outputs": []
    },
    {
      "cell_type": "code",
      "source": [
        "def B96_error_carrM_full(p0):\n",
        "    global i, min_MSE\n",
        "    kappa_v, theta_v, sigma_v, rho, v0, lamb, mu, delta = p0\n",
        "\n",
        "    if (\n",
        "        kappa_v < 0.0\n",
        "        or theta_v < 0.005\n",
        "        or sigma_v < 0.0\n",
        "        or rho < -1.0\n",
        "        or rho > 1.0\n",
        "        or v0 < 0.0\n",
        "        or lamb < 0.0\n",
        "        or mu < -0.6\n",
        "        or mu > 0.0\n",
        "        or delta < 0.0\n",
        "    ):\n",
        "        return 5000.0\n",
        "\n",
        "    if 2 * kappa_v * theta_v < sigma_v**2:\n",
        "        return 5000.0\n",
        "\n",
        "    se = []\n",
        "    for row, option in options_long_mat.iterrows():\n",
        "        model_value = B96_price_carrM(\n",
        "            S0,\n",
        "            option[\"Strike\"],\n",
        "            option[\"T\"],\n",
        "            option[\"r\"],\n",
        "            kappa_v,\n",
        "            theta_v,\n",
        "            sigma_v,\n",
        "            rho,\n",
        "            v0,\n",
        "            lamb,\n",
        "            mu,\n",
        "            delta,\n",
        "            option[\"Type\"],\n",
        "        )\n",
        "        se.append((model_value - option[\"Price\"]) ** 2)\n",
        "\n",
        "    MSE = sum(se) / len(se)\n",
        "    min_MSE = min(min_MSE, MSE)\n",
        "    if i % 25 == 0:\n",
        "        print(\"%4d |\" % i, np.array(p0), \"| %7.3f | %7.3f\" % (MSE, min_MSE))\n",
        "    i += 1\n",
        "    return MSE"
      ],
      "metadata": {
        "id": "opwIjy6MCYtX"
      },
      "execution_count": null,
      "outputs": []
    },
    {
      "cell_type": "code",
      "source": [
        "def B96_calculate_model_values(p0, price_func, option_df):\n",
        "    kappa_v, theta_v, sigma_v, rho, v0, lamb, mu, delta = p0\n",
        "    values = []\n",
        "    for row, option in options.iterrows():\n",
        "        model_value = B96_call_value(\n",
        "            S0,\n",
        "            option[\"Strike\"],\n",
        "            option[\"T\"],\n",
        "            option[\"r\"],\n",
        "            kappa_v,\n",
        "            theta_v,\n",
        "            sigma_v,\n",
        "            rho,\n",
        "            v0,\n",
        "            lamb,\n",
        "            mu,\n",
        "            delta,\n",
        "        )\n",
        "\n",
        "        values.append(model_value)\n",
        "\n",
        "    return np.array(values)"
      ],
      "metadata": {
        "id": "_lDvXNliLBJ3"
      },
      "execution_count": null,
      "outputs": []
    },
    {
      "cell_type": "markdown",
      "source": [
        "# Section 5 Bates Model Calibration\n",
        "##Step 2\n",
        "##a. Calibrate Bates model using Lewis approach and options with maturisy = 60 days"
      ],
      "metadata": {
        "id": "SfznWfwK1BCT"
      }
    },
    {
      "cell_type": "code",
      "source": [
        "params_bates_lewis = B96_calibration_full(p0_lewis, B96_error_lewis_full)"
      ],
      "metadata": {
        "colab": {
          "base_uri": "https://localhost:8080/"
        },
        "id": "rxu2eksZUpvh",
        "outputId": "7f03bade-c659-4c9b-dc07-3a0c33bb9b24"
      },
      "execution_count": null,
      "outputs": [
        {
          "output_type": "stream",
          "name": "stderr",
          "text": [
            "<ipython-input-165-10e51cfecfa2>:32: IntegrationWarning: The occurrence of roundoff error is detected, which prevents \n",
            "  the requested tolerance from being achieved.  The error may be \n",
            "  underestimated.\n",
            "  int_value = quad(\n"
          ]
        },
        {
          "output_type": "stream",
          "name": "stdout",
          "text": [
            "   0 | [ 5.53755409e+00  1.19802387e-01  6.28013179e-06  5.16645086e-01\n",
            "  9.02583177e-02  2.61263229e+00 -2.46310768e-14  3.95351247e-02] |   1.538 |   1.538\n",
            "  25 | [ 5.49955534e+00  1.20426146e-01  6.34260071e-06  5.21784192e-01\n",
            "  9.00097868e-02  2.63862033e+00 -2.48760839e-14  3.97198974e-02] |   1.538 |   1.538\n",
            "  50 | [ 5.51417246e+00  1.19811946e-01  6.49469330e-06  5.34296332e-01\n",
            "  9.01152506e-02  2.61363648e+00 -2.39331584e-14  3.99031095e-02] |   1.538 |   1.538\n",
            "  75 | [ 5.51915386e+00  1.19808083e-01  6.38650956e-06  5.33115828e-01\n",
            "  9.01780406e-02  2.61166312e+00 -2.47139686e-14  3.97768704e-02] |   1.538 |   1.538\n",
            " 100 | [ 5.52240500e+00  1.19840324e-01  6.40867525e-06  5.28967888e-01\n",
            "  9.01521680e-02  2.61520168e+00 -2.45779715e-14  3.97797217e-02] |   1.538 |   1.538\n",
            " 125 | [ 5.52085272e+00  1.19847903e-01  6.43309433e-06  5.30295639e-01\n",
            "  9.01438290e-02  2.61414381e+00 -2.44130022e-14  3.98031740e-02] |   1.538 |   1.538\n",
            "Optimization terminated successfully.\n",
            "         Current function value: 1.538335\n",
            "         Iterations: 61\n",
            "         Function evaluations: 143\n"
          ]
        }
      ]
    },
    {
      "cell_type": "code",
      "source": [
        "# Use call options market price with maturity = 60 days to observe model fitness\n",
        "options_long_mat = options_long_mat[options_long_mat[\"Type\"] == \"C\"]\n",
        "plot_calibration_results(params_bates_lewis, B96_price_lewis,options_long_mat)"
      ],
      "metadata": {
        "colab": {
          "base_uri": "https://localhost:8080/",
          "height": 491
        },
        "id": "vj6FzyAzJcdp",
        "outputId": "b12f21dd-2d76-45bf-e978-a1c113164106"
      },
      "execution_count": null,
      "outputs": [
        {
          "output_type": "error",
          "ename": "ValueError",
          "evalue": "ignored",
          "traceback": [
            "\u001b[0;31m---------------------------------------------------------------------------\u001b[0m",
            "\u001b[0;31mValueError\u001b[0m                                Traceback (most recent call last)",
            "\u001b[0;32m<ipython-input-178-45b987474e0b>\u001b[0m in \u001b[0;36m<cell line: 3>\u001b[0;34m()\u001b[0m\n\u001b[1;32m      1\u001b[0m \u001b[0;31m# Use call options market price with maturity = 60 days to observe model fitness\u001b[0m\u001b[0;34m\u001b[0m\u001b[0;34m\u001b[0m\u001b[0m\n\u001b[1;32m      2\u001b[0m \u001b[0moptions_long_mat\u001b[0m \u001b[0;34m=\u001b[0m \u001b[0moptions_long_mat\u001b[0m\u001b[0;34m[\u001b[0m\u001b[0moptions_long_mat\u001b[0m\u001b[0;34m[\u001b[0m\u001b[0;34m\"Type\"\u001b[0m\u001b[0;34m]\u001b[0m \u001b[0;34m==\u001b[0m \u001b[0;34m\"C\"\u001b[0m\u001b[0;34m]\u001b[0m\u001b[0;34m\u001b[0m\u001b[0;34m\u001b[0m\u001b[0m\n\u001b[0;32m----> 3\u001b[0;31m \u001b[0mplot_calibration_results\u001b[0m\u001b[0;34m(\u001b[0m\u001b[0mparams_bates_lewis\u001b[0m\u001b[0;34m,\u001b[0m \u001b[0mB96_price_lewis\u001b[0m\u001b[0;34m,\u001b[0m\u001b[0moptions_long_mat\u001b[0m\u001b[0;34m)\u001b[0m\u001b[0;34m\u001b[0m\u001b[0;34m\u001b[0m\u001b[0m\n\u001b[0m",
            "\u001b[0;32m<ipython-input-157-6f37af4f4296>\u001b[0m in \u001b[0;36mplot_calibration_results\u001b[0;34m(p0, call_func, option_df)\u001b[0m\n\u001b[1;32m      1\u001b[0m \u001b[0;32mdef\u001b[0m \u001b[0mplot_calibration_results\u001b[0m\u001b[0;34m(\u001b[0m\u001b[0mp0\u001b[0m\u001b[0;34m,\u001b[0m \u001b[0mcall_func\u001b[0m\u001b[0;34m,\u001b[0m\u001b[0moption_df\u001b[0m\u001b[0;34m)\u001b[0m\u001b[0;34m:\u001b[0m\u001b[0;34m\u001b[0m\u001b[0;34m\u001b[0m\u001b[0m\n\u001b[0;32m----> 2\u001b[0;31m     \u001b[0mmodelValue\u001b[0m \u001b[0;34m=\u001b[0m \u001b[0mH93_calculate_model_values\u001b[0m\u001b[0;34m(\u001b[0m\u001b[0mp0\u001b[0m\u001b[0;34m,\u001b[0m \u001b[0mcall_func\u001b[0m\u001b[0;34m,\u001b[0m \u001b[0moption_df\u001b[0m\u001b[0;34m)\u001b[0m\u001b[0;34m\u001b[0m\u001b[0;34m\u001b[0m\u001b[0m\n\u001b[0m\u001b[1;32m      3\u001b[0m     \u001b[0mplt\u001b[0m\u001b[0;34m.\u001b[0m\u001b[0mfigure\u001b[0m\u001b[0;34m(\u001b[0m\u001b[0mfigsize\u001b[0m\u001b[0;34m=\u001b[0m\u001b[0;34m(\u001b[0m\u001b[0;36m8\u001b[0m\u001b[0;34m,\u001b[0m \u001b[0;36m6\u001b[0m\u001b[0;34m)\u001b[0m\u001b[0;34m)\u001b[0m\u001b[0;34m\u001b[0m\u001b[0;34m\u001b[0m\u001b[0m\n\u001b[1;32m      4\u001b[0m     \u001b[0mplt\u001b[0m\u001b[0;34m.\u001b[0m\u001b[0msubplot\u001b[0m\u001b[0;34m(\u001b[0m\u001b[0;36m211\u001b[0m\u001b[0;34m)\u001b[0m\u001b[0;34m\u001b[0m\u001b[0;34m\u001b[0m\u001b[0m\n\u001b[1;32m      5\u001b[0m     \u001b[0mplt\u001b[0m\u001b[0;34m.\u001b[0m\u001b[0mgrid\u001b[0m\u001b[0;34m(\u001b[0m\u001b[0;34m)\u001b[0m\u001b[0;34m\u001b[0m\u001b[0;34m\u001b[0m\u001b[0m\n",
            "\u001b[0;32m<ipython-input-156-38a93eba82f8>\u001b[0m in \u001b[0;36mH93_calculate_model_values\u001b[0;34m(p0, call_func, option_df)\u001b[0m\n\u001b[1;32m      1\u001b[0m \u001b[0;32mdef\u001b[0m \u001b[0mH93_calculate_model_values\u001b[0m\u001b[0;34m(\u001b[0m\u001b[0mp0\u001b[0m\u001b[0;34m,\u001b[0m \u001b[0mcall_func\u001b[0m\u001b[0;34m,\u001b[0m \u001b[0moption_df\u001b[0m\u001b[0;34m)\u001b[0m\u001b[0;34m:\u001b[0m\u001b[0;34m\u001b[0m\u001b[0;34m\u001b[0m\u001b[0m\n\u001b[1;32m      2\u001b[0m     \u001b[0;34m\"\"\"Calculates all model values given parameter vector p0.\"\"\"\u001b[0m\u001b[0;34m\u001b[0m\u001b[0;34m\u001b[0m\u001b[0m\n\u001b[0;32m----> 3\u001b[0;31m     \u001b[0mkappa_v\u001b[0m\u001b[0;34m,\u001b[0m \u001b[0mtheta_v\u001b[0m\u001b[0;34m,\u001b[0m \u001b[0msigma_v\u001b[0m\u001b[0;34m,\u001b[0m \u001b[0mrho\u001b[0m\u001b[0;34m,\u001b[0m \u001b[0mv0\u001b[0m \u001b[0;34m=\u001b[0m \u001b[0mp0\u001b[0m\u001b[0;34m\u001b[0m\u001b[0;34m\u001b[0m\u001b[0m\n\u001b[0m\u001b[1;32m      4\u001b[0m     \u001b[0mvalues\u001b[0m \u001b[0;34m=\u001b[0m \u001b[0;34m[\u001b[0m\u001b[0;34m]\u001b[0m\u001b[0;34m\u001b[0m\u001b[0;34m\u001b[0m\u001b[0m\n\u001b[1;32m      5\u001b[0m     \u001b[0;32mfor\u001b[0m \u001b[0mrow\u001b[0m\u001b[0;34m,\u001b[0m \u001b[0moption\u001b[0m \u001b[0;32min\u001b[0m \u001b[0moption_df\u001b[0m\u001b[0;34m.\u001b[0m\u001b[0miterrows\u001b[0m\u001b[0;34m(\u001b[0m\u001b[0;34m)\u001b[0m\u001b[0;34m:\u001b[0m\u001b[0;34m\u001b[0m\u001b[0;34m\u001b[0m\u001b[0m\n",
            "\u001b[0;31mValueError\u001b[0m: too many values to unpack (expected 5)"
          ]
        }
      ]
    },
    {
      "cell_type": "markdown",
      "source": [
        "##b. Calibrate Bates model using Carr-Madan approach and options with maturisy = 60 days"
      ],
      "metadata": {
        "id": "AlOoour2I6Th"
      }
    },
    {
      "cell_type": "code",
      "source": [
        "params_bates_carrM = B96_calibration_full(p0_carrM, B96_error_carrM_full)"
      ],
      "metadata": {
        "id": "okUGKCzm6Zp3",
        "colab": {
          "base_uri": "https://localhost:8080/"
        },
        "outputId": "9a2b682e-3bb5-4260-e03a-7b0ccf32c853"
      },
      "execution_count": null,
      "outputs": [
        {
          "output_type": "stream",
          "name": "stdout",
          "text": [
            " 150 | [ 5.53755409e+00  1.19802387e-01  6.28013179e-06  5.16645086e-01\n",
            "  9.02583177e-02  1.46847144e+00 -2.36321864e-14  5.30144792e-02] |   1.538 |   1.538\n",
            " 175 | [ 5.55860247e+00  1.19084212e-01  6.36006480e-06  5.23220903e-01\n",
            "  9.03956332e-02  1.45618645e+00 -2.27933095e-14  5.34452975e-02] |   1.538 |   1.538\n",
            " 200 | [ 5.51715119e+00  1.19799589e-01  5.78842322e-06  5.37545499e-01\n",
            "  9.01568539e-02  1.47116221e+00 -2.34173384e-14  5.35410824e-02] |   1.538 |   1.538\n",
            " 225 | [ 5.51314810e+00  1.19780764e-01  5.86870616e-06  5.32448416e-01\n",
            "  9.01158878e-02  1.47171169e+00 -2.33102326e-14  5.37871327e-02] |   1.538 |   1.538\n",
            " 250 | [ 5.51057998e+00  1.19798407e-01  5.90064241e-06  5.31641397e-01\n",
            "  9.01138716e-02  1.47140957e+00 -2.32331280e-14  5.37560373e-02] |   1.538 |   1.538\n",
            " 275 | [ 5.51039449e+00  1.19796768e-01  5.88473543e-06  5.33542316e-01\n",
            "  9.01128968e-02  1.47137724e+00 -2.31576227e-14  5.37762051e-02] |   1.538 |   1.538\n",
            "Optimization terminated successfully.\n",
            "         Current function value: 1.538304\n",
            "         Iterations: 63\n",
            "         Function evaluations: 153\n"
          ]
        }
      ]
    },
    {
      "cell_type": "code",
      "source": [
        "plot_calibration_results(params_bates_carrM, B96_price_carrM,options_long_mat)"
      ],
      "metadata": {
        "id": "B9OwH7_6Jsb2"
      },
      "execution_count": null,
      "outputs": []
    }
  ]
}